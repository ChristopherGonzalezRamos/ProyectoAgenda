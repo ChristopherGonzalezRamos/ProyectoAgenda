{
 "cells": [
  {
   "cell_type": "markdown",
   "metadata": {},
   "source": [
    "<img src=\"./imagenes de los Mokups/LogoTec.png\" width=\"700\" height=\"400\">"
   ]
  },
  {
   "cell_type": "markdown",
   "metadata": {},
   "source": [
    "## Instituto Tecnológico de Colima\n",
    "## Proyecto Final (Mockups)\n",
    "## Christopher González Ramos\n",
    "## Mtra. Patricia Elizabeth Figueroa Millán\n",
    "## Ingeniería Informática\n",
    "## Jueves 30 de mayo de 2024"
   ]
  },
  {
   "cell_type": "markdown",
   "metadata": {},
   "source": [
    "## **COMPLEMENTO AL README** \n",
    "<p> \n",
    "Este documento PDF va a ser complementario al documento README.md, abarcando los puntos de:\n",
    "\n",
    "* Prototipos de la vista y cómo utilizarlas (tipo manual)\n",
    "\n",
    "Va a tener incluido capturas de pantalla como evidencia de que el programa esta ejecutandose y si se muestra algún error o incoveniente, también incluirlo y explicar el porque sucede.\n",
    "</p>"
   ]
  },
  {
   "cell_type": "markdown",
   "metadata": {},
   "source": [
    "### **PROTOTIPO DE LAS VISTAS Y CÓMO UTILIZARLAS (TIPO MANUAL)** \n",
    "\n",
    "<p> \n",
    "En este punto, mostraré cada vista, explicaré a detalle como se debe de utilizar y haremos una demostración para observar que este funcionando correctamente, así que vamos a empezar.\n",
    "</p>\n",
    "\n",
    "<p> \n",
    "* En un principio, se tenía contemplado estas vistas en los mackups diseñados hace unas semanas atrás las cuáles iban a centar la base de mi proyecto para luego darle continuidad en las demás vistas más adelante, pero decidí cambiar la vista del perfil por la agenda, ya que en mi reciente proyecto no se muestra los datos del usuario en su respectiva vista (quizás para los siguientes días la tenga lista y se pueda añadir a este si hay tiempo). Cabe mencionar, que estos mockups son para una vista en aplicación móvil y no para la web.\n",
    "</p> \n",
    "\n",
    "<img src=\"./imagenes de los Mokups/Mockups (Original).png\" width=\"950\" height=\"600\">\n",
    "\n",
    "<p> \n",
    "* Ahora les voy a presentar los mockups con una vista web con las observaciones que me brindo la maestra en la revisión de estos.\n",
    "</p> \n",
    "\n",
    "<img src=\"./imagenes de los Mokups/Mockups Login.png\" width=\"750\" height=\"500\">\n",
    "<p> \n",
    "Mockup del Login en vista de Web\n",
    "</p> \n",
    "\n",
    "<img src=\"./imagenes de los Mokups/Mockups Registro.png\" width=\"750\" height=\"500\">\n",
    "<p> \n",
    "Mockup del Registro en vista de Web\n",
    "</p> \n",
    "\n",
    "<img src=\"./imagenes de los Mokups/Mockups Agenda.png\" width=\"750\" height=\"500\">\n",
    "<p> \n",
    "Mockup del Agenda en vista de Web\n",
    "</p> "
   ]
  }
 ],
 "metadata": {
  "language_info": {
   "name": "python"
  }
 },
 "nbformat": 4,
 "nbformat_minor": 2
}
